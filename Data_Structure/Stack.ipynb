{
 "cells": [
  {
   "cell_type": "code",
   "execution_count": 12,
   "id": "2c15d36b",
   "metadata": {},
   "outputs": [
    {
     "name": "stdout",
     "output_type": "stream",
     "text": [
      "Inserting the first item into the stack\n",
      "apple\n",
      "Inserting the second item into the stack\n",
      "banana\n",
      "Inserting the third item into the stack\n",
      "orange\n",
      "Elements in the stack:\n",
      "['apple', 'banana', 'orange']\n",
      "Removing the first item from the stack\n",
      "orange\n",
      "Removing the second item from the stack\n",
      "banana\n",
      "Removing the thrid item from the stack\n"
     ]
    }
   ],
   "source": [
    "#Stack basic implementation using List\n",
    "#A stack is data structure, where the last insterted item is removed first and vice versa. Stack follow LIFO order.\n",
    "\n",
    "stack = []\n",
    "\n",
    "print(\"Inserting the first item into the stack\")\n",
    "print(\"apple\")\n",
    "stack.append(\"apple\")\n",
    "print(\"Inserting the second item into the stack\")\n",
    "print(\"banana\")\n",
    "stack.append(\"banana\")\n",
    "print(\"Inserting the third item into the stack\")\n",
    "print(\"orange\")\n",
    "stack.append(\"orange\")\n",
    "\n",
    "print(\"Elements in the stack:\")\n",
    "print(stack)\n",
    "\n",
    "print(\"Removing the first item from the stack\")\n",
    "print(stack.pop())\n",
    "print(\"Removing the second item from the stack\")\n",
    "print(stack.pop())\n",
    "print(\"Removing the thrid item from the stack\")\n",
    "\n",
    "\n"
   ]
  },
  {
   "cell_type": "code",
   "execution_count": null,
   "id": "a8646e74",
   "metadata": {},
   "outputs": [],
   "source": []
  }
 ],
 "metadata": {
  "kernelspec": {
   "display_name": "Python 3 (ipykernel)",
   "language": "python",
   "name": "python3"
  },
  "language_info": {
   "codemirror_mode": {
    "name": "ipython",
    "version": 3
   },
   "file_extension": ".py",
   "mimetype": "text/x-python",
   "name": "python",
   "nbconvert_exporter": "python",
   "pygments_lexer": "ipython3",
   "version": "3.9.7"
  }
 },
 "nbformat": 4,
 "nbformat_minor": 5
}
