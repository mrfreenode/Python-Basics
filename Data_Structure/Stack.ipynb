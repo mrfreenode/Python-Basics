{
 "cells": [
  {
   "cell_type": "code",
   "execution_count": 11,
   "id": "44403564",
   "metadata": {},
   "outputs": [
    {
     "name": "stdout",
     "output_type": "stream",
     "text": [
      "Inserting the first item into the stack\n",
      "apple\n",
      "Inserting the second item into the stack\n",
      "banana\n",
      "Inserting the third item into the stack\n",
      "orange\n",
      "Elements in the stack:\n",
      "['apple', 'banana', 'orange']\n",
      "Removing the first item from the stack\n",
      "orange\n",
      "Removing the second item from the stack\n",
      "banana\n",
      "Removing the thrid item from the stack\n",
      "apple\n"
     ]
    },
    {
     "ename": "IndexError",
     "evalue": "pop from empty list",
     "output_type": "error",
     "traceback": [
      "\u001b[0;31m---------------------------------------------------------------------------\u001b[0m",
      "\u001b[0;31mIndexError\u001b[0m                                Traceback (most recent call last)",
      "\u001b[0;32m/var/folders/x_/cvcxdng16wb7jq_t5lkktqbr0000gp/T/ipykernel_1331/3514329972.py\u001b[0m in \u001b[0;36m<module>\u001b[0;34m\u001b[0m\n\u001b[1;32m     23\u001b[0m \u001b[0mprint\u001b[0m\u001b[0;34m(\u001b[0m\u001b[0;34m\"Removing the thrid item from the stack\"\u001b[0m\u001b[0;34m)\u001b[0m\u001b[0;34m\u001b[0m\u001b[0;34m\u001b[0m\u001b[0m\n\u001b[1;32m     24\u001b[0m \u001b[0mprint\u001b[0m\u001b[0;34m(\u001b[0m\u001b[0mstack\u001b[0m\u001b[0;34m.\u001b[0m\u001b[0mpop\u001b[0m\u001b[0;34m(\u001b[0m\u001b[0;34m)\u001b[0m\u001b[0;34m)\u001b[0m\u001b[0;34m\u001b[0m\u001b[0;34m\u001b[0m\u001b[0m\n\u001b[0;32m---> 25\u001b[0;31m \u001b[0mstack\u001b[0m\u001b[0;34m.\u001b[0m\u001b[0mpop\u001b[0m\u001b[0;34m(\u001b[0m\u001b[0;34m)\u001b[0m\u001b[0;34m\u001b[0m\u001b[0;34m\u001b[0m\u001b[0m\n\u001b[0m\u001b[1;32m     26\u001b[0m \u001b[0;34m\u001b[0m\u001b[0m\n\u001b[1;32m     27\u001b[0m \u001b[0;34m\u001b[0m\u001b[0m\n",
      "\u001b[0;31mIndexError\u001b[0m: pop from empty list"
     ]
    }
   ],
   "source": [
    "#Stack basic implementation using List\n",
    "#A stack is data structure, where the last insterted item is removed first and vice versa. Stack follow LIFO order.\n",
    "\n",
    "stack = []\n",
    "\n",
    "print(\"Inserting the first item into the stack\")\n",
    "print(\"apple\")\n",
    "stack.append(\"apple\")\n",
    "print(\"Inserting the second item into the stack\")\n",
    "print(\"banana\")\n",
    "stack.append(\"banana\")\n",
    "print(\"Inserting the third item into the stack\")\n",
    "print(\"orange\")\n",
    "stack.append(\"orange\")\n",
    "\n",
    "print(\"Elements in the stack:\")\n",
    "print(stack)\n",
    "\n",
    "print(\"Removing the first item from the stack\")\n",
    "print(stack.pop())\n",
    "print(\"Removing the second item from the stack\")\n",
    "print(stack.pop())\n",
    "print(\"Removing the thrid item from the stack\")\n",
    "print(stack.pop())\n",
    "stack.pop()\n",
    "\n",
    "\n"
   ]
  },
  {
   "cell_type": "code",
   "execution_count": null,
   "id": "265dc186",
   "metadata": {},
   "outputs": [],
   "source": []
  }
 ],
 "metadata": {
  "kernelspec": {
   "display_name": "Python 3 (ipykernel)",
   "language": "python",
   "name": "python3"
  },
  "language_info": {
   "codemirror_mode": {
    "name": "ipython",
    "version": 3
   },
   "file_extension": ".py",
   "mimetype": "text/x-python",
   "name": "python",
   "nbconvert_exporter": "python",
   "pygments_lexer": "ipython3",
   "version": "3.9.7"
  }
 },
 "nbformat": 4,
 "nbformat_minor": 5
}
